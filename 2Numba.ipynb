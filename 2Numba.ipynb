{
  "nbformat": 4,
  "nbformat_minor": 0,
  "metadata": {
    "colab": {
      "name": "2Numba.ipynb",
      "provenance": [],
      "authorship_tag": "ABX9TyPA+8/c3bu4A2uxzuwiJrBh",
      "include_colab_link": true
    },
    "kernelspec": {
      "name": "python3",
      "display_name": "Python 3"
    },
    "accelerator": "GPU"
  },
  "cells": [
    {
      "cell_type": "markdown",
      "metadata": {
        "id": "view-in-github",
        "colab_type": "text"
      },
      "source": [
        "<a href=\"https://colab.research.google.com/github/ismirnov56/MatmultCUDA/blob/ismirnov56-patch-1/2Numba.ipynb\" target=\"_parent\"><img src=\"https://colab.research.google.com/assets/colab-badge.svg\" alt=\"Open In Colab\"/></a>"
      ]
    },
    {
      "cell_type": "markdown",
      "metadata": {
        "id": "edeMH0fmiiow"
      },
      "source": [
        "## 2.2 Numba"
      ]
    },
    {
      "cell_type": "markdown",
      "metadata": {
        "id": "bW4O8wrfisgU"
      },
      "source": [
        "Из-за возникновения конфликта в настройках Nvidia принято решение развести по разным notebook реализации"
      ]
    },
    {
      "cell_type": "markdown",
      "metadata": {
        "id": "1Q-eskHmi5GU"
      },
      "source": [
        "Устновка:"
      ]
    },
    {
      "cell_type": "code",
      "metadata": {
        "id": "Y0wA7tkM9v4h"
      },
      "source": [
        "!apt-get install nvidia-cuda-toolkit\n",
        "!pip install numba"
      ],
      "execution_count": null,
      "outputs": []
    },
    {
      "cell_type": "code",
      "metadata": {
        "id": "RtCY_JwK9zDn",
        "outputId": "395752b0-4ed6-4975-a05e-43df24a6bb66",
        "colab": {
          "base_uri": "https://localhost:8080/",
          "height": 118
        }
      },
      "source": [
        "!find / -iname 'libdevice'\n",
        "!find / -iname 'libnvvm.so'"
      ],
      "execution_count": null,
      "outputs": [
        {
          "output_type": "stream",
          "text": [
            "/usr/local/cuda-10.1/nvvm/libdevice\n",
            "/usr/local/cuda-10.0/nvvm/libdevice\n",
            "/usr/lib/nvidia-cuda-toolkit/libdevice\n",
            "/usr/lib/cuda/nvvm/libdevice\n",
            "/usr/local/cuda-10.1/nvvm/lib64/libnvvm.so\n",
            "/usr/local/cuda-10.0/nvvm/lib64/libnvvm.so\n"
          ],
          "name": "stdout"
        }
      ]
    },
    {
      "cell_type": "code",
      "metadata": {
        "id": "EmFDTgji900z"
      },
      "source": [
        "import os\n",
        "os.environ['NUMBAPRO_LIBDEVICE'] = \"/usr/local/cuda-10.1/nvvm/libdevice\"\n",
        "os.environ['NUMBAPRO_NVVM'] = \"/usr/local/cuda-10.1/nvvm/lib64/libnvvm.so\""
      ],
      "execution_count": null,
      "outputs": []
    },
    {
      "cell_type": "code",
      "metadata": {
        "id": "PTKHW26NUio9",
        "outputId": "ec810b29-a14e-4a84-fbb8-a2d7c3917142",
        "colab": {
          "base_uri": "https://localhost:8080/",
          "height": 370
        }
      },
      "source": [
        "import numba.cuda.api\n",
        "import numba.cuda.cudadrv.libs\n",
        "numba.cuda.cudadrv.libs.test()\n"
      ],
      "execution_count": null,
      "outputs": [
        {
          "output_type": "stream",
          "text": [
            "Finding cublas from System\n",
            "\tlocated at libcublas.so\n",
            "\ttrying to open library...\tok\n",
            "Finding cusparse from System\n",
            "\tlocated at /usr/local/cuda/lib64/libcusparse.so.10.3.0.243\n",
            "\ttrying to open library...\tok\n",
            "Finding cufft from System\n",
            "\tlocated at /usr/local/cuda/lib64/libcufft.so.10.1.1.243\n",
            "\ttrying to open library...\tok\n",
            "Finding curand from System\n",
            "\tlocated at /usr/local/cuda/lib64/libcurand.so.10.1.1.243\n",
            "\ttrying to open library...\tok\n",
            "Finding nvvm from System\n",
            "\tlocated at /usr/local/cuda/nvvm/lib64/libnvvm.so.3.3.0\n",
            "\ttrying to open library...\tok\n",
            "Finding libdevice from System\n",
            "\tsearching for compute_20...\tok\n",
            "\tsearching for compute_30...\tok\n",
            "\tsearching for compute_35...\tok\n",
            "\tsearching for compute_50...\tok\n"
          ],
          "name": "stdout"
        },
        {
          "output_type": "execute_result",
          "data": {
            "text/plain": [
              "True"
            ]
          },
          "metadata": {
            "tags": []
          },
          "execution_count": 7
        }
      ]
    },
    {
      "cell_type": "code",
      "metadata": {
        "id": "7H8XevgyZTnR",
        "outputId": "168f047e-5c2f-4980-ccec-19a1e64c6037",
        "colab": {
          "base_uri": "https://localhost:8080/",
          "height": 151
        }
      },
      "source": [
        "numba.cuda.api.detect()"
      ],
      "execution_count": null,
      "outputs": [
        {
          "output_type": "stream",
          "text": [
            "Found 1 CUDA devices\n",
            "id 0             b'Tesla T4'                              [SUPPORTED]\n",
            "                      compute capability: 7.5\n",
            "                           pci device id: 4\n",
            "                              pci bus id: 0\n",
            "Summary:\n",
            "\t1/1 devices are supported\n"
          ],
          "name": "stdout"
        },
        {
          "output_type": "execute_result",
          "data": {
            "text/plain": [
              "True"
            ]
          },
          "metadata": {
            "tags": []
          },
          "execution_count": 8
        }
      ]
    },
    {
      "cell_type": "markdown",
      "metadata": {
        "id": "ieQGe_fHi_hH"
      },
      "source": [
        "### 2.2.1 Реализация в 'лоб'\n",
        "Аналогично PyCuda"
      ]
    },
    {
      "cell_type": "code",
      "metadata": {
        "id": "Di4Usxr-e5sC",
        "outputId": "af7d5953-f113-4ab7-edd1-feceeabbb2c3",
        "colab": {
          "base_uri": "https://localhost:8080/",
          "height": 739
        }
      },
      "source": [
        "from numba import cuda, float32\n",
        "import numpy as np\n",
        "import math\n",
        "from time import time\n",
        "\n",
        "# Вычисления будут выполняться на блоках элементов TPBxTPB.\n",
        "TPB = 32\n",
        "n = 10\n",
        "\n",
        "@cuda.jit\n",
        "def matmul(A, B, C):\n",
        "\n",
        "    x, y = cuda.grid(2)\n",
        "\n",
        "    bx = cuda.blockIdx.x\n",
        "    by = cuda.blockIdx.y\n",
        "\n",
        "    tx = cuda.threadIdx.x\n",
        "    ty = cuda.threadIdx.y\n",
        "\n",
        "    row = by * cuda.blockDim.y + ty\n",
        "    col = bx * cuda.blockDim.x + tx\n",
        "    \n",
        "    if row < n and col < n:\n",
        "      tmp = 0\n",
        "      for j in range(n):\n",
        "        tmp += A[row, j] * B[j, col]\n",
        "      C[row, col] = tmp\n",
        "\n",
        "A = np.random.randn(n, n).astype(np.float32)\n",
        "B = np.random.randn(n, n).astype(np.float32)\n",
        "C = np.dot(A, B)\n",
        "\n",
        "threadsperblock = (TPB, TPB)\n",
        "blockspergrid_x = int(math.ceil(A.shape[0] / threadsperblock[1]))\n",
        "blockspergrid_y = int(math.ceil(B.shape[1] / threadsperblock[0]))\n",
        "blockspergrid = (blockspergrid_x, blockspergrid_y)\n",
        "\n",
        "A_global_mem = cuda.to_device(A)\n",
        "B_global_mem = cuda.to_device(B)\n",
        "C_global_mem = cuda.device_array((n, n))\n",
        "    \n",
        "matmul[blockspergrid, threadsperblock](A_global_mem, B_global_mem, C_global_mem)\n",
        "res = C_global_mem.copy_to_host()\n",
        "print(n)\n",
        "print('-'*80)\n",
        "print(C)\n",
        "print('-'*80)\n",
        "print(res)"
      ],
      "execution_count": null,
      "outputs": [
        {
          "output_type": "stream",
          "text": [
            "10\n",
            "--------------------------------------------------------------------------------\n",
            "[[ 1.8246052  -1.7834735  -3.0392675   2.7423606   4.322127    0.80730397\n",
            "  -2.6904116  -1.042314    0.5716245   3.1254756 ]\n",
            " [ 0.89561504  5.0263715  -5.772845   -1.3087717   0.12531497  1.8100029\n",
            "  -3.4151542  -0.6627056  -2.1695244  -1.2350144 ]\n",
            " [ 3.2640185  -1.6468567  -1.628558    0.4240253  -0.95938325  0.04865081\n",
            "   1.8554276   3.1296644   0.06229217  0.22955242]\n",
            " [ 3.707739    0.64840996 -1.6767858  -3.63755     5.5408792   4.794858\n",
            "   1.751004    0.62051094  2.0569193   1.1650298 ]\n",
            " [ 1.1197258  -2.1967242   2.4276955  -1.381544   -0.52810615 -2.4558988\n",
            "   0.73375964  2.1939716   0.29488993  1.3896816 ]\n",
            " [-1.399037    0.65601075  1.2020674  -0.9390956   0.63052434  1.9789646\n",
            "   0.09143455 -2.7301276   1.239572    0.9596796 ]\n",
            " [ 1.4581041   1.3057268   1.3085347  -0.14379077 -2.7723215  -0.02241931\n",
            "   2.8070986   0.94326115 -0.7244338  -1.7351402 ]\n",
            " [ 1.6119689  -3.2586377   0.43513754  2.5315156  -2.5919838  -2.3392086\n",
            "   1.6564894   5.475105    1.5955731   2.6580367 ]\n",
            " [-3.3160012  -2.3079276   0.66408336 -2.4066315   1.7237206   6.175275\n",
            "   2.0200403   0.98884636 -2.7111218  -3.3102615 ]\n",
            " [-3.6713264   4.7353396   0.8553172   0.5186052   0.62813985  3.3426511\n",
            "  -0.5613926  -0.9475488   3.108584   -2.4326386 ]]\n",
            "--------------------------------------------------------------------------------\n",
            "[[ 1.82460501 -1.78347332 -3.03926734  2.74236088  4.32212671  0.80730389\n",
            "  -2.69041154 -1.04231405  0.57162448  3.12547584]\n",
            " [ 0.89561507  5.02637153 -5.77284467 -1.30877168  0.12531512  1.81000268\n",
            "  -3.41515446 -0.66270571 -2.1695242  -1.23501447]\n",
            " [ 3.26401843 -1.64685648 -1.62855802  0.42402533 -0.95938317  0.04865088\n",
            "   1.85542783  3.1296645   0.06229185  0.22955234]\n",
            " [ 3.70773908  0.64840982 -1.67678598 -3.63755007  5.54087957  4.79485819\n",
            "   1.75100388  0.62051062  2.05691931  1.16502969]\n",
            " [ 1.11972602 -2.19672418  2.4276955  -1.38154397 -0.5281061  -2.45589886\n",
            "   0.73375952  2.19397162  0.29488992  1.38968161]\n",
            " [-1.39903706  0.65601068  1.20206733 -0.9390956   0.63052444  1.97896463\n",
            "   0.09143457 -2.7301277   1.2395719   0.95967971]\n",
            " [ 1.45810431  1.30572677  1.30853469 -0.14379078 -2.77232166 -0.02241924\n",
            "   2.80709855  0.94326126 -0.72443377 -1.73514017]\n",
            " [ 1.61196897 -3.25863777  0.4351376   2.53151577 -2.5919838  -2.33920835\n",
            "   1.65648941  5.47510491  1.59557318  2.65803697]\n",
            " [-3.31600118 -2.3079279   0.66408338 -2.40663136  1.72372059  6.1752752\n",
            "   2.02004015  0.98884638 -2.71112176 -3.31026158]\n",
            " [-3.67132655  4.73533965  0.8553172   0.51860522  0.62813983  3.3426506\n",
            "  -0.56139268 -0.94754903  3.10858417 -2.43263864]]\n"
          ],
          "name": "stdout"
        }
      ]
    },
    {
      "cell_type": "markdown",
      "metadata": {
        "id": "WwW-tAFZjRAF"
      },
      "source": [
        "Проверка работоспособности прошла успешно, вычислим время."
      ]
    },
    {
      "cell_type": "code",
      "metadata": {
        "id": "YYJ0HzvL9250"
      },
      "source": [
        "times_numba = []\n",
        "for n in range(100, 2001, 100):\n",
        "    A = np.random.randn(n, n).astype(np.float32)\n",
        "    B = np.random.randn(n, n).astype(np.float32)\n",
        "\n",
        "    threadsperblock = (TPB, TPB)\n",
        "    blockspergrid_x = int(math.ceil(A.shape[0] / threadsperblock[1]))\n",
        "    blockspergrid_y = int(math.ceil(B.shape[1] / threadsperblock[0]))\n",
        "    blockspergrid = (blockspergrid_x, blockspergrid_y)\n",
        "\n",
        "    t = 0\n",
        "    for i in range(10):\n",
        "      st = time()\n",
        "      A_global_mem = cuda.to_device(A)\n",
        "      B_global_mem = cuda.to_device(B)\n",
        "      C_global_mem = cuda.device_array((n, n))\n",
        "    \n",
        "      matmul[blockspergrid, threadsperblock](A_global_mem, B_global_mem, C_global_mem)\n",
        "      res = C_global_mem.copy_to_host()\n",
        "      t += time() - st\n",
        "    times_numba.append(t/10)"
      ],
      "execution_count": null,
      "outputs": []
    },
    {
      "cell_type": "markdown",
      "metadata": {
        "id": "h9l5gJJ-jVcc"
      },
      "source": [
        "### 2.2.2 Релизация с использованеим shared"
      ]
    },
    {
      "cell_type": "code",
      "metadata": {
        "id": "Z1XjgcjrfGX4"
      },
      "source": [
        "@cuda.jit\n",
        "def matmul_with_shared(A, B, C):\n",
        "    sA = cuda.shared.array(shape=(TPB, TPB), dtype=float32)\n",
        "    sB = cuda.shared.array(shape=(TPB, TPB), dtype=float32)\n",
        "\n",
        "    x, y = cuda.grid(2)\n",
        "    \n",
        "    bx = cuda.blockIdx.x\n",
        "    by = cuda.blockIdx.y\n",
        "\n",
        "    tx = cuda.threadIdx.x\n",
        "    ty = cuda.threadIdx.y\n",
        "\n",
        "    row = by * cuda.blockDim.y + ty\n",
        "    col = bx * cuda.blockDim.x + tx\n",
        "\n",
        "    sA[tx, ty] = 0.0\n",
        "    sB[tx, ty] = 0.0\n",
        "\n",
        "    tmp = 0\n",
        "    for i in range(int((n - 1) / TPB + 1)):\n",
        "        if row < n and (tx + i*TPB) < n:\n",
        "            sA[tx, ty] = A[x, ty + i * TPB]\n",
        "        if row < n and (tx + i*TPB) < n:\n",
        "            sB[tx, ty] = B[tx + i * TPB, y]\n",
        "\n",
        "        cuda.syncthreads()\n",
        "\n",
        "        for j in range(TPB):\n",
        "            tmp += sA[tx, j] * sB[j, ty]\n",
        "\n",
        "        cuda.syncthreads()\n",
        "    if row < n and col < n:\n",
        "        C[row, col] = tmp"
      ],
      "execution_count": null,
      "outputs": []
    },
    {
      "cell_type": "markdown",
      "metadata": {
        "id": "gyEp0jHbjg_1"
      },
      "source": [
        "Проверка:"
      ]
    },
    {
      "cell_type": "code",
      "metadata": {
        "id": "_AgkDH7hfJNN",
        "outputId": "743f6d7b-24cc-42d4-96ff-db611f86d93a",
        "colab": {
          "base_uri": "https://localhost:8080/",
          "height": 739
        }
      },
      "source": [
        "n = 10\n",
        "A = np.random.randn(n, n).astype(np.float32)\n",
        "B = np.random.randn(n, n).astype(np.float32)\n",
        "C = np.dot(A, B)\n",
        "\n",
        "threadsperblock = (TPB, TPB)\n",
        "blockspergrid_x = int(math.ceil(A.shape[0] / threadsperblock[1]))\n",
        "blockspergrid_y = int(math.ceil(B.shape[1] / threadsperblock[0]))\n",
        "blockspergrid = (blockspergrid_x, blockspergrid_y)\n",
        "\n",
        "A_global_mem = cuda.to_device(A)\n",
        "B_global_mem = cuda.to_device(B)\n",
        "C_global_mem = cuda.device_array((n, n))\n",
        "    \n",
        "matmul_with_shared[blockspergrid, threadsperblock](A_global_mem, B_global_mem, C_global_mem)\n",
        "res = C_global_mem.copy_to_host()\n",
        "print(n)\n",
        "print('-'*80)\n",
        "print(C)\n",
        "print('-'*80)\n",
        "print(res)"
      ],
      "execution_count": null,
      "outputs": [
        {
          "output_type": "stream",
          "text": [
            "10\n",
            "--------------------------------------------------------------------------------\n",
            "[[ 4.251632   -2.2811708   3.8229737  -2.04636    -0.55115527  2.476335\n",
            "   0.08954062 -1.5529318   2.9790702   0.808498  ]\n",
            " [-3.540766    0.73457766  1.0159775   1.6961205  -3.0340152  -2.6670434\n",
            "   1.1406647   3.2014787  -0.31490362 -3.2506611 ]\n",
            " [ 3.2490606  -6.3680205   4.546994    0.4137888   1.8373121  -0.748631\n",
            "   1.0753028   3.562995    3.4899702  -1.0950687 ]\n",
            " [ 1.8796214  -4.9007993  -3.3819342   0.48979256  0.1553577   4.2891\n",
            "   1.2050543   2.6844423   7.4768367  -2.0674667 ]\n",
            " [-0.98333883  1.025317   -7.2726393  -2.5283287  -1.576848    0.70418245\n",
            "   4.096247    0.18753578 -1.5071696   0.5979374 ]\n",
            " [-2.9552157   1.082218    0.905845   -1.2961289   1.9854758  -4.7101984\n",
            "   1.5323998  -3.2175598  -7.4496646  -3.9771557 ]\n",
            " [ 2.900821   -0.29322642 -1.8906037   0.5075871   2.2675257   2.1781967\n",
            "  -2.4110382   1.1541088   1.8727137   3.552895  ]\n",
            " [ 2.2977428  -3.9292727  -0.4959403  -1.0762008   0.21127091 -0.57665265\n",
            "   5.4434595   2.428991   -5.2144227  -4.8554673 ]\n",
            " [ 0.9170651   0.58645266 -0.1026321  -0.6171681  -0.64066994  2.7977262\n",
            "   0.5698207  -2.068313    1.4923068   6.240787  ]\n",
            " [ 1.1203091  -3.6239524  -1.8609916  -0.11834201  3.4789593   2.1341348\n",
            "   0.48525706 -1.6425672   0.86199284 -0.2722499 ]]\n",
            "--------------------------------------------------------------------------------\n",
            "[[ 4.25163224 -3.54076574  3.24906061  1.87962158 -0.98333894 -2.95521558\n",
            "   2.90082129  2.29774287  0.91706527  1.12030915]\n",
            " [-2.28117085  0.73457755 -6.36802091 -4.90079921  1.02531713  1.08221811\n",
            "  -0.29322652 -3.9292727   0.58645252 -3.62395243]\n",
            " [ 3.82297356  1.0159775   4.54699446 -3.38193424 -7.27263902  0.90584501\n",
            "  -1.89060357 -0.49594017 -0.10263225 -1.86099168]\n",
            " [-2.0463601   1.69612067  0.41378877  0.48979261 -2.5283283  -1.29612889\n",
            "   0.50758697 -1.07620093 -0.61716811 -0.11834195]\n",
            " [-0.55115539 -3.03401497  1.83731205  0.15535765 -1.57684786  1.98547593\n",
            "   2.2675258   0.21127104 -0.64066984  3.47895918]\n",
            " [ 2.47633502 -2.66704335 -0.74863087  4.28910033  0.70418246 -4.71019802\n",
            "   2.17819635 -0.57665263  2.79772638  2.13413476]\n",
            " [ 0.08954069  1.14066493  1.07530287  1.2050542   4.09624681  1.53239995\n",
            "  -2.41103838  5.44345944  0.56982081  0.48525707]\n",
            " [-1.55293172  3.20147876  3.56299529  2.68444245  0.18753591 -3.21755986\n",
            "   1.15410888  2.42899126 -2.06831284 -1.64256712]\n",
            " [ 2.97907007 -0.3149036   3.48997025  7.47683677 -1.50716972 -7.44966468\n",
            "   1.87271364 -5.21442266  1.49230686  0.86199282]\n",
            " [ 0.808498   -3.25066124 -1.09506857 -2.06746656  0.59793735 -3.9771557\n",
            "   3.55289491 -4.85546658  6.2407875  -0.27224991]]\n"
          ],
          "name": "stdout"
        }
      ]
    },
    {
      "cell_type": "markdown",
      "metadata": {
        "id": "wP8bqjGAjncV"
      },
      "source": [
        "Всё работает, теперь расчёт времени"
      ]
    },
    {
      "cell_type": "code",
      "metadata": {
        "id": "fEcYCTnYhuQS"
      },
      "source": [
        "times_numba_shared = []\n",
        "for n in range(100, 2001, 100):\n",
        "    A = np.random.randn(n, n).astype(np.float32)\n",
        "    B = np.random.randn(n, n).astype(np.float32)\n",
        "\n",
        "    threadsperblock = (TPB, TPB)\n",
        "    blockspergrid_x = int(math.ceil(A.shape[0] / threadsperblock[1]))\n",
        "    blockspergrid_y = int(math.ceil(B.shape[1] / threadsperblock[0]))\n",
        "    blockspergrid = (blockspergrid_x, blockspergrid_y)\n",
        "\n",
        "    t = 0\n",
        "    for i in range(10):\n",
        "      st = time()\n",
        "      A_global_mem = cuda.to_device(A)\n",
        "      B_global_mem = cuda.to_device(B)\n",
        "      C_global_mem = cuda.device_array((n, n))\n",
        "    \n",
        "      matmul_with_shared[blockspergrid, threadsperblock](A_global_mem, B_global_mem, C_global_mem)\n",
        "      res = C_global_mem.copy_to_host()\n",
        "      t += time() - st\n",
        "    times_numba_shared.append(t/10)"
      ],
      "execution_count": null,
      "outputs": []
    },
    {
      "cell_type": "markdown",
      "metadata": {
        "id": "gsywCHOujqS7"
      },
      "source": [
        "Выводим время"
      ]
    },
    {
      "cell_type": "code",
      "metadata": {
        "id": "uwq-4aDliI_n",
        "outputId": "afa6e210-6fde-4eb6-9097-1cc83036b8d6",
        "colab": {
          "base_uri": "https://localhost:8080/",
          "height": 353
        }
      },
      "source": [
        "times_numba"
      ],
      "execution_count": null,
      "outputs": [
        {
          "output_type": "execute_result",
          "data": {
            "text/plain": [
              "[0.001285243034362793,\n",
              " 0.00206449031829834,\n",
              " 0.003477048873901367,\n",
              " 0.005562138557434082,\n",
              " 0.009096956253051758,\n",
              " 0.01176450252532959,\n",
              " 0.01358644962310791,\n",
              " 0.014847350120544434,\n",
              " 0.018949294090270997,\n",
              " 0.02438662052154541,\n",
              " 0.03184633255004883,\n",
              " 0.04041223526000977,\n",
              " 0.049691176414489745,\n",
              " 0.06105129718780518,\n",
              " 0.07454085350036621,\n",
              " 0.08881425857543945,\n",
              " 0.10757997035980224,\n",
              " 0.12703230381011962,\n",
              " 0.14787740707397462,\n",
              " 0.1707094669342041]"
            ]
          },
          "metadata": {
            "tags": []
          },
          "execution_count": 27
        }
      ]
    },
    {
      "cell_type": "code",
      "metadata": {
        "id": "U4IsrldjiGo4",
        "outputId": "6d16c57f-cb96-44ac-8e36-7a40c61f4b42",
        "colab": {
          "base_uri": "https://localhost:8080/",
          "height": 353
        }
      },
      "source": [
        "times_numba_shared"
      ],
      "execution_count": null,
      "outputs": [
        {
          "output_type": "execute_result",
          "data": {
            "text/plain": [
              "[0.0024385929107666017,\n",
              " 0.0014611005783081055,\n",
              " 0.0019822120666503906,\n",
              " 0.0025400638580322264,\n",
              " 0.0032777309417724608,\n",
              " 0.004489827156066895,\n",
              " 0.005399155616760254,\n",
              " 0.007057762145996094,\n",
              " 0.008211445808410645,\n",
              " 0.009281086921691894,\n",
              " 0.011311197280883789,\n",
              " 0.012795519828796387,\n",
              " 0.014497089385986327,\n",
              " 0.016321587562561034,\n",
              " 0.016684937477111816,\n",
              " 0.019545793533325195,\n",
              " 0.022096800804138183,\n",
              " 0.020410966873168946,\n",
              " 0.02316761016845703,\n",
              " 0.022792983055114745]"
            ]
          },
          "metadata": {
            "tags": []
          },
          "execution_count": 28
        }
      ]
    },
    {
      "cell_type": "code",
      "metadata": {
        "id": "YATBBKxcjzkU"
      },
      "source": [
        "Сохраняем результаты с помощью pandas, сравнительный анализ в results.ipynb"
      ],
      "execution_count": null,
      "outputs": []
    },
    {
      "cell_type": "code",
      "metadata": {
        "id": "GXcIzlHulYOa"
      },
      "source": [
        "import pandas as pd\n",
        "\n",
        "data = {\n",
        "    'N': [*range(100, 2001, 100)],\n",
        "    'numba': times_numba,\n",
        "    'numba_with_shared': times_numba_shared,\n",
        "}\n",
        "\n",
        "df = pd.DataFrame(data)\n",
        "df"
      ],
      "execution_count": null,
      "outputs": []
    },
    {
      "cell_type": "code",
      "metadata": {
        "id": "Z_-sPOpLlpVM",
        "outputId": "710b03d9-523c-4cfe-bd2b-3c7b5db70a2f",
        "colab": {
          "base_uri": "https://localhost:8080/",
          "height": 34
        }
      },
      "source": [
        "from google.colab import drive\n",
        "drive.mount('drive')"
      ],
      "execution_count": null,
      "outputs": [
        {
          "output_type": "stream",
          "text": [
            "Mounted at drive\n"
          ],
          "name": "stdout"
        }
      ]
    },
    {
      "cell_type": "code",
      "metadata": {
        "id": "igofHgRUl__R"
      },
      "source": [
        "df.to_csv('drive/My Drive/data/numba.csv', index=False)"
      ],
      "execution_count": null,
      "outputs": []
    }
  ]
}